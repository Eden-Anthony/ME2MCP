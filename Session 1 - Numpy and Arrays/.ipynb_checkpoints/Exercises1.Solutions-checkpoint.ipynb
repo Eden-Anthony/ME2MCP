{
 "cells": [
  {
   "cell_type": "code",
   "execution_count": 1,
   "metadata": {},
   "outputs": [],
   "source": [
    "import numpy as np\n",
    "import matplotlib.pyplot as pl\n",
    "from mpl_toolkits import mplot3d"
   ]
  },
  {
   "cell_type": "code",
   "execution_count": 2,
   "metadata": {},
   "outputs": [
    {
     "data": {
      "text/plain": [
       "<matplotlib.collections.PathCollection at 0x7fee6a651cd0>"
      ]
     },
     "execution_count": 2,
     "metadata": {},
     "output_type": "execute_result"
    },
    {
     "data": {
      "image/png": "[encoded data removed]",
      "text/plain": [
       "<Figure size 432x288 with 1 Axes>"
      ]
     },
     "metadata": {
      "needs_background": "light"
     },
     "output_type": "display_data"
    }
   ],
   "source": [
    "# Task A\n",
    "\n",
    "# A1\n",
    "Dx = 0.5\n",
    "x1 = np.arange(-5,-2+Dx,Dx)\n",
    "\n",
    "Dx = 0.05\n",
    "x2 = np.arange(-2+Dx,3,Dx)\n",
    "\n",
    "Dx = 0.5\n",
    "x3 = np.arange(3,5+Dx,Dx)\n",
    "\n",
    "\n",
    "# concatenate the three arrays together\n",
    "#x = np.zeros(len(x1)+len(x2)+len(x3))\n",
    "#x[0:len(x1)]=x1\n",
    "#x[len(x1):len(x1)+len(x2)]=x2\n",
    "#x[len(x1)+len(x2):len(x1)+len(x2)+len(x3)]=x3\n",
    "\n",
    "\n",
    "# concatenate the three arrays together\n",
    "x = np.hstack((x1,x2,x3))\n",
    "\n",
    "\n",
    "# A2\n",
    "y = np.sin(x)\n",
    "\n",
    "# A3\n",
    "pl.scatter(x,y)"
   ]
  },
  {
   "cell_type": "code",
   "execution_count": null,
   "metadata": {},
   "outputs": [],
   "source": [
    "# Task B\n",
    "\n",
    "# B1\n",
    "# set dx\n",
    "Dx = 0.1\n",
    "# define range x = [-2pi:2pi] boundaries included\n",
    "x = np.arange(-2*np.pi,2*np.pi+Dx,Dx)\n",
    "# define range y = [-pi:2pi] boundaries included\n",
    "y = np.arange(-np.pi,2*np.pi+Dx,Dx)\n",
    "\n",
    "# set meshgrids\n",
    "(Xg, Yg) = np.meshgrid(x,y)\n",
    "\n",
    "# print sizes to examine\n",
    "print(len(x))\n",
    "print(len(y))\n",
    "print(np.shape(Xg))\n",
    "print(np.shape(Yg))\n",
    "\n",
    "# compute f and g\n",
    "f = np.sin(Xg)*np.cos(Yg)\n",
    "g = np.cos(Xg)*np.sin(Yg)\n",
    "\n",
    "# B2\n",
    "# compute s and p\n",
    "s = f + g\n",
    "p = f * g\n",
    "\n"
   ]
  },
  {
   "cell_type": "code",
   "execution_count": null,
   "metadata": {},
   "outputs": [],
   "source": [
    "# Task C\n",
    "\n",
    "# C1\n",
    "# plot surface of s\n",
    "# set 3D view\n",
    "ax = pl.axes(projection='3d')\n",
    "# plot surface\n",
    "ax.plot_surface(Xg,Yg,s)\n",
    "\n",
    "# plot contour of s\n",
    "# make a new window plot\n",
    "pl.show()\n",
    "# plot contours\n",
    "pl.contour(Xg,Yg,s)\n",
    "\n",
    "\n",
    "\n",
    "# do the same for p\n",
    "\n",
    "# plot surface of p\n",
    "# make a new window plot\n",
    "pl.show()\n",
    "# set 3D view\n",
    "ax = pl.axes(projection='3d')\n",
    "# plot surface\n",
    "ax.plot_surface(Xg,Yg,p)\n",
    "\n",
    "# plot contour of s\n",
    "# make a new window plot\n",
    "pl.show()\n",
    "# plot contours\n",
    "pl.contour(Xg,Yg,p)\n",
    "\n",
    "\n",
    "# C2\n",
    "# set dt\n",
    "Dt = 0.05\n",
    "# define t range\n",
    "t = np.arange(0,10+Dt,Dt)\n",
    "# set meshgrids\n",
    "(Yg, Xg, Tg) = np.meshgrid(y,x,t)\n",
    "# compute r\n",
    "r = np.sin(Xg)*np.cos(Yg) * np.exp(-0.5*Tg)\n",
    "\n",
    "# C3\n",
    "# plot r at t=0\n",
    "pl.show()\n",
    "ax = pl.axes(projection='3d')\n",
    "ax.plot_surface(Xg[:,:,0],Yg[:,:,0],r[:,:,0])\n",
    "\n",
    "# plot r at t=5 (half way of the range)\n",
    "th = int(len(t)/2)\n",
    "pl.show()\n",
    "ax = pl.axes(projection='3d')\n",
    "ax.plot_surface(Xg[:,:,th],Yg[:,:,th],r[:,:,th])"
   ]
  },
  {
   "cell_type": "code",
   "execution_count": null,
   "metadata": {},
   "outputs": [],
   "source": [
    "# Task D\n",
    "\n",
    "# D1\n",
    "# set intervals dx, dy\n",
    "dx = 0.5\n",
    "# define the range\n",
    "x = np.arange(-5,5+dx,dx)\n",
    "\n",
    "# create 2D grids\n",
    "Xg , Yg = np.meshgrid(x,x)\n",
    "\n",
    "# establish length of arrays\n",
    "Nx = len(x)\n",
    "\n",
    "# allocate an array for F: size is Nx by Nx by 2 (2 is because the vector has two components, i and j)\n",
    "F = np.ndarray( (Nx,Nx,2) )\n",
    "# set F: because we are using grids we can write formulas as we would do in Maths\n",
    "# i component: slice only the first layer and assign values for all x and y\n",
    "# j component: slice only the second layer and assign values for all x and y\n",
    "\n",
    "# comment/uncomment, as appropriate\n",
    "# (a)\n",
    "#F[:,:,0] = Xg\n",
    "#F[:,:,1] = Yg\n",
    "\n",
    "# (b)\n",
    "F[:,:,0] = Yg\n",
    "F[:,:,1] = -Xg\n",
    "\n",
    "# (c)\n",
    "F[:,:,0] = Yg / (Xg**2+Yg**2)\n",
    "F[:,:,1] = -Xg / (Xg**2+Yg**2)\n",
    "\n",
    "\n",
    "# D2\n",
    "# plot the streamlines of the vector field \n",
    "# Xg and Yg are the independent domain\n",
    "# F[:,:,0], F[:,:,1] are the two components\n",
    "pl.streamplot(Xg,Yg,F[:,:,0],F[:,:,1])\n",
    "pl.show()\n",
    "\n",
    "# plot the actual vectors\n",
    "pl.quiver(Xg,Yg,F[:,:,0],F[:,:,1],color='b')\n",
    "pl.show()"
   ]
  },
  {
   "cell_type": "code",
   "execution_count": null,
   "metadata": {},
   "outputs": [],
   "source": []
  },
  {
   "cell_type": "code",
   "execution_count": null,
   "metadata": {},
   "outputs": [],
   "source": [
    "# Task E\n",
    "\n",
    "dx = 0.1\n",
    "x = np.arange(-5,5+dx,dx)\n",
    "y = np.sin(x)\n",
    "\n",
    "# length of y\n",
    "N = len(y)\n",
    "\n",
    "# compute ym\n",
    "ym = np.zeros(N)\n",
    "ym[y<0]=-y[y<0]\n",
    "ym[y>=0]=y[y>=0]\n",
    "pl.plot(x,y,'r')\n",
    "pl.plot(x,ym,'b+')\n",
    "\n",
    "# E2\n",
    "ymsat = np.zeros(N)\n",
    "ymsat[ym<=0.5]=ym[ym<=0.5]\n",
    "ymsat[ym>0.5]=0.5\n",
    "ymsat[x<=0]=0\n",
    "pl.plot(x,ymsat,'mx')"
   ]
  },
  {
   "cell_type": "code",
   "execution_count": null,
   "metadata": {},
   "outputs": [],
   "source": []
  },
  {
   "cell_type": "code",
   "execution_count": null,
   "metadata": {},
   "outputs": [],
   "source": []
  }
 ],
 "metadata": {
  "kernelspec": {
   "display_name": "Python 3",
   "language": "python",
   "name": "python3"
  },
  "language_info": {
   "codemirror_mode": {
    "name": "ipython",
    "version": 3
   },
   "file_extension": ".py",
   "mimetype": "text/x-python",
   "name": "python",
   "nbconvert_exporter": "python",
   "pygments_lexer": "ipython3",
   "version": "3.7.3"
  }
 },
 "nbformat": 4,
 "nbformat_minor": 2
}
