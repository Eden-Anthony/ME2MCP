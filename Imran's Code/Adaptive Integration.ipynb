{
 "cells": [
  {
   "cell_type": "code",
   "execution_count": 4,
   "metadata": {},
   "outputs": [],
   "source": [
    "def Simpsons_Compound(x,y,h):\n",
    "    \n",
    "    compound_area = 0\n",
    "    if len(y) % 2 != 0:\n",
    "        for i in range(0,len(x)-1,2):\n",
    "            area = Simpsons(x[i:i+3],y[i:i+3],h)\n",
    "            compound_area += area\n",
    "    \n",
    "    return compound_area\n",
    "        "
   ]
  },
  {
   "cell_type": "code",
   "execution_count": 36,
   "metadata": {},
   "outputs": [],
   "source": [
    "def func(x):\n",
    "    y = np.sin(x)\n",
    "    return y  \n",
    "\n",
    "def Adaptive_Integration_Simpsons(x,y,tolerance,a,b,M):\n",
    "\n",
    "    #set fake error just to start while loop\n",
    "    error = tolerance * 2\n",
    "\n",
    "    h = x[1] - x[0]\n",
    "    S = Simpsons_Compound(x,y,h)   \n",
    "\n",
    "    while error >= tolerance:\n",
    "        #if we double the amount of nodes, we halve the step size\n",
    "        M = 2*M\n",
    "        x = np.linspace(a,b,M+1)\n",
    "        h = x[1] - x[0]\n",
    "        y = func(x)\n",
    "\n",
    "        #compute area using half step size\n",
    "        Shalf = Simpsons_Compound(x,y,h)\n",
    "        print(Shalf)\n",
    "\n",
    "        #compute error between before halving and after halving\n",
    "        error = (1/15) * np.abs(Shalf - S)\n",
    "\n",
    "        #assign Shalf to S now to continue halving\n",
    "        S = Shalf\n",
    "        \n",
    "    return 'Integral: {}, Number of nodes reached: {}, Error Achieved: {}'.format(S, M+1, error) "
   ]
  },
  {
   "cell_type": "code",
   "execution_count": 37,
   "metadata": {},
   "outputs": [
    {
     "name": "stdout",
     "output_type": "stream",
     "text": [
      "1.6640521099381633\n",
      "1.6542353517615564\n",
      "1.6536797760020727\n",
      "1.6536458679402304\n"
     ]
    },
    {
     "data": {
      "text/plain": [
       "'Integral: 1.6536458679402304, Number of nodes reached: 33, Error Achieved: 2.2605374561557314e-06'"
      ]
     },
     "execution_count": 37,
     "metadata": {},
     "output_type": "execute_result"
    }
   ],
   "source": [
    "a = 0\n",
    "b = 4\n",
    "#let's start off with lowest amount of subintervals we can have so least accurate\n",
    "M = 2\n",
    "tolerance = 1.0e-5\n",
    "x = np.linspace(a,b,M+1)\n",
    "y = func(x)\n",
    "\n",
    "Adaptive_Integration_Simpsons(x,y,tolerance,a,b,M)"
   ]
  },
  {
   "cell_type": "code",
   "execution_count": null,
   "metadata": {},
   "outputs": [],
   "source": []
  }
 ],
 "metadata": {
  "kernelspec": {
   "display_name": "Python 3",
   "language": "python",
   "name": "python3"
  },
  "language_info": {
   "codemirror_mode": {
    "name": "ipython",
    "version": 3
   },
   "file_extension": ".py",
   "mimetype": "text/x-python",
   "name": "python",
   "nbconvert_exporter": "python",
   "pygments_lexer": "ipython3",
   "version": "3.8.3"
  }
 },
 "nbformat": 4,
 "nbformat_minor": 4
}
