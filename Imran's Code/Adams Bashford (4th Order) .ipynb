{
 "cells": [
  {
   "cell_type": "markdown",
   "metadata": {},
   "source": [
    "## This Adams Bashford is of 4th Order so requires 4 known nodes"
   ]
  },
  {
   "cell_type": "code",
   "execution_count": 30,
   "metadata": {},
   "outputs": [],
   "source": [
    "import math as mt\n",
    "import numpy as np\n",
    "\n",
    "def binomial_coef_backwards(r,k):\n",
    "    coef = mt.factorial(-r)/(mt.factorial(k)*mt.factorial(-r-k))\n",
    "    return coef\n",
    "\n",
    "\n",
    "#need to code function for backward difference that takes t,y and k\n",
    "def Diff_Backwards(y,k):\n",
    "    \n",
    "    #if k is zero then return f_n - since it's backwards this is the 4th node\n",
    "    if k == 0:\n",
    "        f =  y[-1]\n",
    "    \n",
    "    else:\n",
    "        #can use recursive function here\n",
    "        f = Diff_Backwards(y[1:], k-1) - Diff_Backwards(y[:-1], k-1)\n",
    "        print(y[:-1], y[1:], f)\n",
    "        \n",
    "    return f\n",
    "\n",
    "def Adams_Bashford_4(t,y):\n",
    "    \n",
    "    #assume equal spacing\n",
    "    h = t[1] - t[0]\n",
    "    #filter out for only last 4 points of y array\n",
    "    y_array = y[(len(y)-4):]\n",
    "        \n",
    "    #4th order Adams Bashford uses a polynomial p3(t)\n",
    "    k = 3\n",
    "    p = 0\n",
    "    for i in range(k+1):\n",
    "        r = (t[i+1] - t[i])/h\n",
    "        p += ((-1) ** i) * binominal_coef_backwards(r,i) * Diff_Backwards(y_array,i)\n",
    "        \n",
    "    y += [y_array[-1]+(h*p)]\n",
    "    \n",
    "    \n",
    "        "
   ]
  },
  {
   "cell_type": "code",
   "execution_count": 13,
   "metadata": {},
   "outputs": [],
   "source": [
    "#CAN ALSO CODE DIRECT METHOD USING SIMPLIFIED VERSION (SLIDE 231 on Autumn Term Lecture Slides - much easier)"
   ]
  },
  {
   "cell_type": "code",
   "execution_count": null,
   "metadata": {},
   "outputs": [],
   "source": []
  },
  {
   "cell_type": "code",
   "execution_count": null,
   "metadata": {},
   "outputs": [],
   "source": []
  }
 ],
 "metadata": {
  "kernelspec": {
   "display_name": "Python 3",
   "language": "python",
   "name": "python3"
  },
  "language_info": {
   "codemirror_mode": {
    "name": "ipython",
    "version": 3
   },
   "file_extension": ".py",
   "mimetype": "text/x-python",
   "name": "python",
   "nbconvert_exporter": "python",
   "pygments_lexer": "ipython3",
   "version": "3.8.3"
  }
 },
 "nbformat": 4,
 "nbformat_minor": 4
}
