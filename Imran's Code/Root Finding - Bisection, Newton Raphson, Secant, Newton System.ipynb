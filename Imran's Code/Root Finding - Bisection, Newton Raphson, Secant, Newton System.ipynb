{
 "cells": [
  {
   "cell_type": "markdown",
   "metadata": {},
   "source": [
    "## Task A: Bisection Method"
   ]
  },
  {
   "cell_type": "code",
   "execution_count": 1,
   "metadata": {},
   "outputs": [],
   "source": [
    "import numpy as np\n",
    "import matplotlib.pyplot as plt"
   ]
  },
  {
   "cell_type": "code",
   "execution_count": 2,
   "metadata": {},
   "outputs": [],
   "source": [
    "def func(x):\n",
    "    \n",
    "    return 25 - ((6*np.pi*(x**2)) - (np.pi*(x**3)))/3"
   ]
  },
  {
   "cell_type": "code",
   "execution_count": 3,
   "metadata": {},
   "outputs": [],
   "source": [
    "#modified function for Maths sheet 17 - Q1\n",
    "\n",
    "def mybisection(a, b, e):\n",
    "    \n",
    "    x01 = a\n",
    "    x02 = b\n",
    "    \n",
    "    x = np.linspace(a-3,b+3,int(abs((a-b)*100)))\n",
    "    y = func(x)\n",
    "    \n",
    "    plt.figure(figsize=(15,10))\n",
    "    plt.plot(x,y)\n",
    "    plt.axhline(y=0, c='b')\n",
    "    \n",
    "    error = e*2\n",
    "    \n",
    "    i = 1\n",
    "    \n",
    "    while error > e:\n",
    "        \n",
    "        i += 1\n",
    "        \n",
    "        plt.plot([a,a],[0,func(a)])\n",
    "        plt.plot([b,b],[0,func(b)])\n",
    "        \n",
    "        mid = (a+b)/2\n",
    "        \n",
    "        #relative_error = ((b-a)/(2**(i+1)))\n",
    "        #print('Relative error: {}'.format(relative_error))\n",
    "        print(np.sign(func(a)) * np.sign(func(b)))\n",
    "        print(('a: {}, y: {}'.format(a,func(a))))\n",
    "        print(('b: {}, y: {}'.format(b,func(b))))\n",
    "        print('mid: {}'.format(mid))\n",
    "        print('')\n",
    "        \n",
    "        error = abs(a - mid)\n",
    "\n",
    "        if np.sign(func(a)) * np.sign(func(mid)) <= 0:\n",
    "            \n",
    "            \n",
    "            #if sign changes between a and midpoint then solution lies in the middle of\n",
    "            #a and midpoint of a and b so make midpoint the endpoint i.e. b \n",
    "\n",
    "            b = mid\n",
    "\n",
    "        else:\n",
    "\n",
    "            a = mid\n",
    "            \n",
    "            \n",
    "        \n",
    "    plt.show()\n",
    "    \n",
    "    return 'The midpoint with {} iterations is: {}'.format(i,(a+b)/2)"
   ]
  },
  {
   "cell_type": "code",
   "execution_count": 4,
   "metadata": {},
   "outputs": [
    {
     "name": "stdout",
     "output_type": "stream",
     "text": [
      "-1.0\n",
      "a: 0, y: 25.0\n",
      "b: 4, y: -8.510321638291124\n",
      "mid: 2.0\n",
      "\n",
      "-1.0\n",
      "a: 2.0, y: 8.244839180854438\n",
      "b: 4, y: -8.510321638291124\n",
      "mid: 3.0\n",
      "\n",
      "-1.0\n",
      "a: 2.0, y: 8.244839180854438\n",
      "b: 3.0, y: -3.274333882308138\n",
      "mid: 2.5\n",
      "\n",
      "-1.0\n",
      "a: 2.5, y: 2.0925535675744236\n",
      "b: 3.0, y: -3.274333882308138\n",
      "mid: 2.75\n",
      "\n",
      "-1.0\n",
      "a: 2.5, y: 2.0925535675744236\n",
      "b: 2.75, y: -0.7381523130038836\n",
      "mid: 2.625\n",
      "\n",
      "-1.0\n",
      "a: 2.625, y: 0.6465210115275646\n",
      "b: 2.75, y: -0.7381523130038836\n",
      "mid: 2.6875\n",
      "\n",
      "-1.0\n",
      "a: 2.625, y: 0.6465210115275646\n",
      "b: 2.6875, y: -0.05425254507153454\n",
      "mid: 2.65625\n",
      "\n",
      "-1.0\n",
      "a: 2.65625, y: 0.2941208834439131\n",
      "b: 2.6875, y: -0.05425254507153454\n",
      "mid: 2.671875\n",
      "\n",
      "-1.0\n",
      "a: 2.671875, y: 0.11941884751526288\n",
      "b: 2.6875, y: -0.05425254507153454\n",
      "mid: 2.6796875\n",
      "\n",
      "-1.0\n",
      "a: 2.6796875, y: 0.03245282277601902\n",
      "b: 2.6875, y: -0.05425254507153454\n",
      "mid: 2.68359375\n",
      "\n",
      "-1.0\n",
      "a: 2.6796875, y: 0.03245282277601902\n",
      "b: 2.68359375, y: -0.01093263051272686\n",
      "mid: 2.681640625\n",
      "\n",
      "-1.0\n",
      "a: 2.681640625, y: 0.010751927197091504\n",
      "b: 2.68359375, y: -0.01093263051272686\n",
      "mid: 2.6826171875\n",
      "\n"
     ]
    },
    {
     "data": {
      "image/png": "[encoded data removed]",
      "text/plain": [
       "<Figure size 1080x720 with 1 Axes>"
      ]
     },
     "metadata": {
      "needs_background": "light"
     },
     "output_type": "display_data"
    },
    {
     "name": "stdout",
     "output_type": "stream",
     "text": [
      "The midpoint with 13 iterations is: 2.68212890625\n"
     ]
    }
   ],
   "source": [
    "sol = mybisection(0,4,0.001)\n",
    "print(sol)"
   ]
  },
  {
   "cell_type": "markdown",
   "metadata": {},
   "source": [
    "## Task B: Bisection Method with Discrete Function"
   ]
  },
  {
   "cell_type": "code",
   "execution_count": 5,
   "metadata": {},
   "outputs": [],
   "source": [
    "def Lagrangian(j, xp, xn):\n",
    "    \n",
    "    L = 1\n",
    "    n = len(xn)\n",
    "    \n",
    "    for k in range(n):\n",
    "        if k != j:\n",
    "            L *= (xp-xn[k])/(xn[j]-xn[k])\n",
    "    \n",
    "    return L\n",
    "\n",
    "#xn and yn represent the nodes we know \n",
    "#x represents the points we are trying to interpolate for\n",
    "def LagrInterp(xn,yn,x):\n",
    "    \n",
    "    y = []\n",
    "    \n",
    "    n = len(yn)\n",
    "\n",
    "    for i in range(len(x)):\n",
    "        \n",
    "        p = 0\n",
    "        \n",
    "        for j in range(n):\n",
    "        \n",
    "            p += Lagrangian(j, x[i], xn) * yn[j]\n",
    "            \n",
    "        y += [p]\n",
    "            \n",
    "        \n",
    "        \n",
    "    return y    \n",
    "\n",
    "\n",
    "\n",
    "def mybisection_discrete(filex, filey):\n",
    "    \n",
    "    #input code to read in xn and yn\n",
    "    xn = [float(point.strip()) for point in open(filex, 'r').readlines()]\n",
    "    yn = [float(point.strip()) for point in open(filey, 'r').readlines()]\n",
    "    \n",
    "    a = min(xn)\n",
    "    b = max(xn)\n",
    "    \n",
    "    plt.figure(figsize=(15,10))\n",
    "    plt.scatter(xn,yn)\n",
    "    \n",
    "    for _ in range(3):\n",
    "        \n",
    "        interpa = LagrInterp(xn,yn,[a])\n",
    "        interpb = LagrInterp(xn,yn,[b])\n",
    "        \n",
    "        \n",
    "        plt.plot([a,a],[0,interpa[0]])\n",
    "        plt.plot([b,b],[0,interpb[0]])\n",
    "        \n",
    "        mid = (a+b)/2\n",
    "        \n",
    "        print(('a: {}, y: {}'.format(a,interpa[0])))\n",
    "        print(('b: {}, y: {}'.format(b,interpb[0])))\n",
    "        print('mid: {}'.format(mid))\n",
    "        print('')\n",
    "\n",
    "        if np.sign(interpa) * np.sign(LagrInterp(xn,yn,[mid])) <= 0:\n",
    "            \n",
    "            \n",
    "            #if sign changes between a and midpoint then solution lies in the middle of\n",
    "            #a and midpoint of a and b so make midpoint the endpoint\n",
    "\n",
    "            b = mid\n",
    "\n",
    "        else:\n",
    "\n",
    "            a = mid\n",
    "            \n",
    "    \n",
    "    return 'The root is approximated to be at {}'.format((a+b)/2)"
   ]
  },
  {
   "cell_type": "code",
   "execution_count": 6,
   "metadata": {},
   "outputs": [
    {
     "name": "stdout",
     "output_type": "stream",
     "text": [
      "a: -10.0, y: -1632.0\n",
      "b: 10.0, y: 608.0\n",
      "mid: 0.0\n",
      "\n",
      "a: 0.0, y: -12.0\n",
      "b: 10.0, y: 608.0\n",
      "mid: 5.0\n",
      "\n",
      "a: 0.0, y: -12.0\n",
      "b: 5.0, y: 48.0\n",
      "mid: 2.5\n",
      "\n"
     ]
    },
    {
     "data": {
      "text/plain": [
       "'The root is approximated to be at 1.25'"
      ]
     },
     "execution_count": 6,
     "metadata": {},
     "output_type": "execute_result"
    },
    {
     "data": {
      "image/png": "[encoded data removed]",
      "text/plain": [
       "<Figure size 1080x720 with 1 Axes>"
      ]
     },
     "metadata": {
      "needs_background": "light"
     },
     "output_type": "display_data"
    }
   ],
   "source": [
    "mybisection_discrete(\"x.txt\", 'fx.txt')"
   ]
  },
  {
   "cell_type": "markdown",
   "metadata": {},
   "source": [
    "## Task C: Newton Raphson Method"
   ]
  },
  {
   "cell_type": "code",
   "execution_count": 7,
   "metadata": {},
   "outputs": [],
   "source": [
    "#note that for this function, f(x) and f'(x) have to be pre-programmed\n",
    "def f(x):\n",
    "    \n",
    "    #return 25 - ((6*np.pi*(x**2)) - (np.pi*(x**3)))/3\n",
    "    \n",
    "    return (x**3) - (2*(x**2)) - (4*x) + 8\n",
    "\n",
    "\"\"\"\"def f(x):\n",
    "    \n",
    "    return (x**2) + ((x-2)**3) - 4\"\"\"\n",
    "\n",
    "def f_prime(x, dx):\n",
    "    \n",
    "    return (f(x+dx)-f(x))/dx\n",
    "\n",
    "def myNewton(x0, dx, e):\n",
    "    \n",
    "    #create an artificial error to start the loop\n",
    "    error = 10*e\n",
    "    xn = x0\n",
    "    \n",
    "    x = np.linspace(x0-10,x0+20,int((x0+10)*10))\n",
    "    y = f(x)\n",
    "    \n",
    "    #plot f(x) against f(x)\n",
    "    plt.figure(figsize=(15,10))\n",
    "    plt.plot(x, y,'g')\n",
    "    \n",
    "    #draw x axis\n",
    "    plt.axhline(0, color='black')\n",
    "    \n",
    "    i = 0\n",
    "    \n",
    "    while error > e:\n",
    "        \n",
    "        i += 1\n",
    "        #need to store previous x coordinate\n",
    "        xp = xn\n",
    "        \n",
    "        if f_prime(xn,dx)== 0:\n",
    "            \n",
    "            return xn\n",
    "        \n",
    "        else:\n",
    "            \n",
    "            xn = xp - (f(xp)/f_prime(xp,dx))\n",
    "            \n",
    "            #visualise what Newton Raphson is doing\n",
    "            plt.plot([xp,xn],[f(xp), 0],'r')\n",
    "            plt.plot([xp,xp], [0, f(xp)], 'b--')\n",
    "        \n",
    "        #error is difference between new and old x\n",
    "        error = abs((xn-xp)/xp)\n",
    "    \n",
    "    plt.show()\n",
    "    \n",
    "    return 'The Newton Raphson approximates the following as the root of the function: {} after {} iterations'.format(xn, i)\n",
    "    \n",
    "    "
   ]
  },
  {
   "cell_type": "code",
   "execution_count": 8,
   "metadata": {},
   "outputs": [
    {
     "data": {
      "image/png": "[encoded data removed]",
      "text/plain": [
       "<Figure size 1080x720 with 1 Axes>"
      ]
     },
     "metadata": {
      "needs_background": "light"
     },
     "output_type": "display_data"
    },
    {
     "data": {
      "text/plain": [
       "'The Newton Raphson approximates the following as the root of the function: 1.9679117335349354 after 4 iterations'"
      ]
     },
     "execution_count": 8,
     "metadata": {},
     "output_type": "execute_result"
    }
   ],
   "source": [
    "x0 = 1.2\n",
    "myNewton(x0,0.1,0.05)"
   ]
  },
  {
   "cell_type": "markdown",
   "metadata": {},
   "source": [
    "## Task D: Newton-Raphson Method for Systems of Non-Linear Equations"
   ]
  },
  {
   "cell_type": "code",
   "execution_count": 9,
   "metadata": {},
   "outputs": [],
   "source": [
    "#using functions in Maths Lecture Slides\n",
    "\n",
    "def u(x,y):\n",
    "    \n",
    "    #return (x**2) + 1 - y\n",
    "    return (x**2)+(y**2) - 16\n",
    "\n",
    "def v(x,y):\n",
    "    \n",
    "    #return (2*np.cos(x)) - y\n",
    "    return ((x-4)**2) + ((y-4)**2) - 8\n",
    "\n",
    "#can apply both of the below functions to u and v\n",
    "\n",
    "def f_prime_x_u(x,y,dx):\n",
    "    \n",
    "    return (u(x+dx,y) - u(x,y))/dx\n",
    "\n",
    "def f_prime_y_u(x,y,dy):\n",
    "    \n",
    "    return (u(x,y+dy) - u(x,y))/dy\n",
    "\n",
    "def f_prime_x_v(x,y,dx):\n",
    "    \n",
    "    return (v(x+dx,y) - v(x,y))/dx\n",
    "\n",
    "def f_prime_y_v(x,y,dy):\n",
    "    \n",
    "    return (v(x,y+dy) - v(x,y))/dy\n",
    "    \n",
    "    \n",
    "def Newton_System(x0,y0, dx,dy,e):\n",
    "    \n",
    "    xn = np.array([[x0], [y0]])\n",
    "    \n",
    "    error = 10*e\n",
    "    \n",
    "    while error > e:\n",
    "        \n",
    "        xp = np.array([[xn[0][0]], [xn[1][0]]])\n",
    "        \n",
    "        fn = np.array([[u(xp[0][0], xp[1][0])], [v(xp[0][0], xp[1][0])]])\n",
    "        \n",
    "        jacobian = np.array([[f_prime_x_u(xp[0][0],xp[1][0],dx), f_prime_y_u(xp[0][0],xp[1][0],dy)],\n",
    "                            [f_prime_x_v(xp[0][0],xp[1][0],dx), f_prime_y_v(xp[0][0],xp[1][0],dy)]])\n",
    "        \n",
    "        j_inverse = np.linalg.inv(jacobian)\n",
    "        xn = xp - np.matmul(j_inverse, fn)\n",
    "        \n",
    "        #error is difference between new and old x\n",
    "        error = max(np.abs(xn - xp))\n",
    "        \n",
    "    return 'The Newton Raphson approximates the following as the root of the function: x: {}, y: {}'.format(xn[0][0],\n",
    "                                                                                                           xn[1][0])"
   ]
  },
  {
   "cell_type": "code",
   "execution_count": 10,
   "metadata": {},
   "outputs": [
    {
     "data": {
      "text/plain": [
       "'The Newton Raphson approximates the following as the root of the function: x: 3.8228756561679766, y: 1.177124343832018'"
      ]
     },
     "execution_count": 10,
     "metadata": {},
     "output_type": "execute_result"
    }
   ],
   "source": [
    "e = 0.0001\n",
    "\n",
    "# set the initial guess\n",
    "x0 = 4\n",
    "y0 = 1\n",
    "\n",
    "dx = 0.05*e\n",
    "dy = 0.05*e\n",
    "\n",
    "Newton_System(x0,y0, dx,dy,e)"
   ]
  },
  {
   "cell_type": "markdown",
   "metadata": {},
   "source": [
    "## Secant Method"
   ]
  },
  {
   "cell_type": "code",
   "execution_count": 11,
   "metadata": {},
   "outputs": [],
   "source": [
    "def f(x):\n",
    "    \n",
    "    return 25 - ((6*np.pi*(x**2)) - (np.pi*(x**3)))/3\n",
    "\n",
    "def f_prime(x, dx):\n",
    "    \n",
    "    return (f(x+dx)-f(x))/dx\n",
    "\n",
    "def secant(x0,x1, e):\n",
    "    \n",
    "    dx = 0.1\n",
    "    error = 10*e\n",
    "    \n",
    "    i = 0\n",
    "    while error > e:\n",
    "        \n",
    "        i += 1\n",
    "        \n",
    "        xn1 = x1 - (f(x1)*(x0- x1))/(f(x0)-f(x1))\n",
    "\n",
    "        error = abs((xn1 - x1)/x1)\n",
    "        print(xn1)\n",
    "        \n",
    "        x0 = x1\n",
    "        #calculated position becomes other point\n",
    "        x1 = xn1\n",
    "\n",
    "        \n",
    "    print(i)\n",
    "        \n",
    "    return xn1"
   ]
  },
  {
   "cell_type": "code",
   "execution_count": 12,
   "metadata": {},
   "outputs": [
    {
     "name": "stdout",
     "output_type": "stream",
     "text": [
      "2.9744593128105734\n",
      "2.417801955906967\n",
      "2.6979263057666225\n",
      "2.6832691820403243\n",
      "4\n"
     ]
    },
    {
     "data": {
      "text/plain": [
       "2.6832691820403243"
      ]
     },
     "execution_count": 12,
     "metadata": {},
     "output_type": "execute_result"
    }
   ],
   "source": [
    "x0 = 2\n",
    "x1 = 1.99*2\n",
    "secant(x0,x1,0.01)"
   ]
  },
  {
   "cell_type": "markdown",
   "metadata": {},
   "source": [
    "## Newton Raphson with Multiplier"
   ]
  },
  {
   "cell_type": "code",
   "execution_count": 13,
   "metadata": {},
   "outputs": [],
   "source": [
    "#note that for this function, f(x) and f'(x) have to be pre-programmed\n",
    "def f(x):\n",
    "    \n",
    "    #return 25 - ((6*np.pi*(x**2)) - (np.pi*(x**3)))/3\n",
    "    \n",
    "    return (x**3) - (2*(x**2)) - (4*x) + 8\n",
    "\n",
    "\"\"\"\"def f(x):\n",
    "    \n",
    "    return (x**2) + ((x-2)**3) - 4\"\"\"\n",
    "\n",
    "def f_prime(x, dx):\n",
    "    \n",
    "    return (f(x+dx)-f(x))/dx\n",
    "\n",
    "def myNewton(x0, dx, m, e):\n",
    "    \n",
    "    #create an artificial error to start the loop\n",
    "    error = 10*e\n",
    "    xn = x0\n",
    "    \n",
    "    x = np.linspace(x0-10,x0+20,int((x0+10)*10))\n",
    "    y = f(x)\n",
    "    \n",
    "    #plot f(x) against f(x)\n",
    "    plt.figure(figsize=(15,10))\n",
    "    plt.plot(x, y,'g')\n",
    "    \n",
    "    #draw x axis\n",
    "    plt.axhline(0, color='black')\n",
    "    \n",
    "    i = 0\n",
    "    \n",
    "    while error > e:\n",
    "        \n",
    "        i += 1\n",
    "        #need to store previous x coordinate\n",
    "        xp = xn\n",
    "        \n",
    "        if f_prime(xn,dx)== 0:\n",
    "            \n",
    "            return xn\n",
    "        \n",
    "        else:\n",
    "            \n",
    "            xn = xp - (m*(f(xp)/f_prime(xp,dx)))\n",
    "            \n",
    "            #visualise what Newton Raphson is doing\n",
    "            plt.plot([xp,xn],[f(xp), 0],'r')\n",
    "            plt.plot([xp,xp], [0, f(xp)], 'b--')\n",
    "        \n",
    "        #error is difference between new and old x\n",
    "        error = abs((xn-xp)/xp)\n",
    "    \n",
    "    plt.show()\n",
    "    \n",
    "    return 'The Newton Raphson approximates the following as the root of the function: {} after {} iterations'.format(xn, i)\n",
    "    \n",
    "    "
   ]
  },
  {
   "cell_type": "code",
   "execution_count": 15,
   "metadata": {},
   "outputs": [
    {
     "data": {
      "image/png": "[encoded data removed]",
      "text/plain": [
       "<Figure size 1080x720 with 1 Axes>"
      ]
     },
     "metadata": {
      "needs_background": "light"
     },
     "output_type": "display_data"
    },
    {
     "data": {
      "text/plain": [
       "'The Newton Raphson approximates the following as the root of the function: 2.008297918117087 after 7 iterations'"
      ]
     },
     "execution_count": 15,
     "metadata": {},
     "output_type": "execute_result"
    }
   ],
   "source": [
    "x0 = 1.2\n",
    "m = 2\n",
    "e = 0.001\n",
    "myNewton(x0,0.1, m, e)"
   ]
  },
  {
   "cell_type": "code",
   "execution_count": null,
   "metadata": {},
   "outputs": [],
   "source": []
  }
 ],
 "metadata": {
  "kernelspec": {
   "display_name": "Python 3",
   "language": "python",
   "name": "python3"
  },
  "language_info": {
   "codemirror_mode": {
    "name": "ipython",
    "version": 3
   },
   "file_extension": ".py",
   "mimetype": "text/x-python",
   "name": "python",
   "nbconvert_exporter": "python",
   "pygments_lexer": "ipython3",
   "version": "3.8.3"
  }
 },
 "nbformat": 4,
 "nbformat_minor": 4
}
