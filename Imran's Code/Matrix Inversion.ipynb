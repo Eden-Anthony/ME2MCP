{
 "cells": [
  {
   "cell_type": "markdown",
   "metadata": {},
   "source": [
    "## Analytical Method"
   ]
  },
  {
   "cell_type": "code",
   "execution_count": 7,
   "metadata": {},
   "outputs": [
    {
     "data": {
      "text/plain": [
       "array([ 1.32323232,  1.56565657, -0.60606061,  0.71717172])"
      ]
     },
     "execution_count": 7,
     "metadata": {},
     "output_type": "execute_result"
    }
   ],
   "source": [
    "import numpy as np\n",
    "\n",
    "A = np.array([[8, -2, 1, 3], [1, -5, 2, 1],[-1, 2, 7, 2],[2 ,-1, 3, 8]],dtype=float)\n",
    "b = np.array([9, -7, -1, 5],dtype=float)\n",
    "\n",
    "A_inverse = np.linalg.inv(A)\n",
    "result = np.matmul(A_inverse, b)\n",
    "result"
   ]
  },
  {
   "cell_type": "code",
   "execution_count": 9,
   "metadata": {},
   "outputs": [],
   "source": [
    "import numpy as np\n",
    "\n",
    "def MyGauss(A,b):\n",
    "    \n",
    "    for k in range(len(A)-1):\n",
    "        \n",
    "        if A[k,k] == 0.0:\n",
    "            break\n",
    "        \n",
    "        for i in range(k+1, len(A)):\n",
    "            \n",
    "            pivot = A[i,k]/A[k,k]\n",
    "            \n",
    "            #need to add in another loop since b and A can't be in same loop\n",
    "            #because A goes through more iterations whereas B requires only one\n",
    "            #calculation per row BUT they both share a common pivot\n",
    "            \n",
    "            #this extra loop will go through every row for a certain column below the diagonal of the matrix\n",
    "            for j in range(k, len(A)):\n",
    "                A[i,j] = A[i,j] - pivot * A[k,j]\n",
    "            \n",
    "            \n",
    "            b[i] = b[i] - pivot * b[k]\n",
    "    \n",
    "    x = np.zeros(len(b))\n",
    "    \n",
    "    #working backwards\n",
    "    for i in range(len(b)-1,-1,-1):\n",
    "        \n",
    "        #need to start off with last row, this value is needed for all other rows\n",
    "        x[i] = b[i]/A[i,i]\n",
    "    \n",
    "        #and now work way backwards substituting in values already calculated\n",
    "        for j in range(i+1,len(b)):\n",
    "            \n",
    "            x[i] = x[i] - ((A[i,j] * x[j]) / A[i,i])\n",
    "\n",
    "    return A,b,x"
   ]
  },
  {
   "cell_type": "code",
   "execution_count": 8,
   "metadata": {},
   "outputs": [
    {
     "data": {
      "text/plain": [
       "(array([[ 8.        , -2.        ,  1.        ,  3.        ],\n",
       "        [ 0.        , -4.75      ,  1.875     ,  0.625     ],\n",
       "        [ 0.        ,  0.        ,  7.81578947,  2.60526316],\n",
       "        [ 0.        ,  0.        ,  0.        ,  6.33333333]]),\n",
       " array([ 9.        , -8.125     , -2.86842105,  4.54208754]),\n",
       " array([ 1.32323232,  1.56565657, -0.60606061,  0.71717172]))"
      ]
     },
     "execution_count": 8,
     "metadata": {},
     "output_type": "execute_result"
    }
   ],
   "source": [
    "A = np.array([[8, -2, 1, 3], [1, -5, 2, 1],[-1, 2, 7, 2],[2 ,-1, 3, 8]],dtype=float)\n",
    "b = np.array([9, -7, -1, 5],dtype=float)\n",
    "\n",
    "MyGauss(A,b)"
   ]
  },
  {
   "cell_type": "code",
   "execution_count": null,
   "metadata": {},
   "outputs": [],
   "source": []
  }
 ],
 "metadata": {
  "kernelspec": {
   "display_name": "Python 3",
   "language": "python",
   "name": "python3"
  },
  "language_info": {
   "codemirror_mode": {
    "name": "ipython",
    "version": 3
   },
   "file_extension": ".py",
   "mimetype": "text/x-python",
   "name": "python",
   "nbconvert_exporter": "python",
   "pygments_lexer": "ipython3",
   "version": "3.8.3"
  }
 },
 "nbformat": 4,
 "nbformat_minor": 4
}
