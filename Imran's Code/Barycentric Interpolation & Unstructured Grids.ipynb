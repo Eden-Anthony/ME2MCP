{
 "cells": [
  {
   "cell_type": "markdown",
   "metadata": {},
   "source": [
    "## Triangular Nearest Neighbours"
   ]
  },
  {
   "cell_type": "code",
   "execution_count": 1,
   "metadata": {},
   "outputs": [],
   "source": [
    "import numpy as np\n",
    "\n",
    "def TrNN(r,f,rp):\n",
    "    \n",
    "    #r will be a list of list contatining cartesian coordinates\n",
    "    d = []\n",
    "    w = []\n",
    "    \n",
    "    if len(r) and len(f) == 3:\n",
    "        \n",
    "        for i in range(len(r)):\n",
    "        \n",
    "            d += np.sqrt(((r[i,0]-rp[0])**2)+(r[i,1]-rp[1])**2)\n",
    "            w += [1/d[i]]\n",
    "        \n",
    "    #now interpolate\n",
    "    fp = ((w[0]*f[0])+(w[1]*f[1])+(w[2]*f[2]))/(w[0]+w[1]+w[2])\n",
    "    return fp"
   ]
  },
  {
   "cell_type": "markdown",
   "metadata": {},
   "source": [
    "## Barycentric Interpolation"
   ]
  },
  {
   "cell_type": "code",
   "execution_count": 3,
   "metadata": {},
   "outputs": [],
   "source": [
    "# r is an array of three points - in the following form: [[x1,y1], [x2,y2], [x3,y3]]\n",
    "# f is the value at those three points\n",
    "# rp is a point we are trying to interpolate the value of for\n",
    "\n",
    "def TrBaryc(r,f,rp):\n",
    "    \n",
    "    A = np.transpose(r)\n",
    "    A = np.append(A,[[1,1,1]], axis=0)\n",
    "    d = np.append(rp,1)\n",
    "    \n",
    "    lam = np.dot(np.linalg.inv(A),d)\n",
    "    \n",
    "    fp = (lam[0]*f[0])+(lam[1]*f[1])+(lam[2]*f[2])\n",
    "    return fp"
   ]
  },
  {
   "cell_type": "code",
   "execution_count": null,
   "metadata": {},
   "outputs": [],
   "source": []
  }
 ],
 "metadata": {
  "kernelspec": {
   "display_name": "Python 3",
   "language": "python",
   "name": "python3"
  },
  "language_info": {
   "codemirror_mode": {
    "name": "ipython",
    "version": 3
   },
   "file_extension": ".py",
   "mimetype": "text/x-python",
   "name": "python",
   "nbconvert_exporter": "python",
   "pygments_lexer": "ipython3",
   "version": "3.8.3"
  }
 },
 "nbformat": 4,
 "nbformat_minor": 4
}
