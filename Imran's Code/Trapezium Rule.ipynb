{
 "cells": [
  {
   "cell_type": "markdown",
   "metadata": {},
   "source": [
    "## Trapezium Rule with Equidistant Nodes"
   ]
  },
  {
   "cell_type": "code",
   "execution_count": 2,
   "metadata": {},
   "outputs": [],
   "source": [
    "import numpy as np\n",
    "\n",
    "#trapezium rule with equidistant nodes\n",
    "\n",
    "def trapzeqd(x, y):\n",
    "    \n",
    "    #equidistant nodes\n",
    "    h = x[1]-x[0]\n",
    "    \n",
    "    I = 0\n",
    "    for i in range(1,len(x)-1):\n",
    "        I += y[i]\n",
    "        \n",
    "    return h*(I + (y[0] + y[-1])/2)    "
   ]
  },
  {
   "cell_type": "markdown",
   "metadata": {},
   "source": [
    "## General Trapezium Rule"
   ]
  },
  {
   "cell_type": "code",
   "execution_count": 3,
   "metadata": {},
   "outputs": [],
   "source": [
    "def trapz(x,y):\n",
    "    \n",
    "    I = 0\n",
    "    \n",
    "    h_initial = x[1] - x[0]\n",
    "    h_last = x[-1] - x[-2]\n",
    "    \n",
    "    #adding in first and last points in the formula\n",
    "    I += ((h_initial/2)*y[0]) + ((h_last/2)*y[-1]) \n",
    "    \n",
    "    #summing middle points\n",
    "    for n in range(1,len(x)-1):\n",
    "        hn = x[n+1] - x[n]\n",
    "        I += hn * y[n]\n",
    "        \n",
    "    return I"
   ]
  },
  {
   "cell_type": "markdown",
   "metadata": {},
   "source": [
    "## Example - Double Integration"
   ]
  },
  {
   "cell_type": "markdown",
   "metadata": {},
   "source": [
    "### See Session 3 Attempt, Last Task"
   ]
  },
  {
   "cell_type": "code",
   "execution_count": null,
   "metadata": {},
   "outputs": [],
   "source": []
  }
 ],
 "metadata": {
  "kernelspec": {
   "display_name": "Python 3",
   "language": "python",
   "name": "python3"
  },
  "language_info": {
   "codemirror_mode": {
    "name": "ipython",
    "version": 3
   },
   "file_extension": ".py",
   "mimetype": "text/x-python",
   "name": "python",
   "nbconvert_exporter": "python",
   "pygments_lexer": "ipython3",
   "version": "3.8.3"
  }
 },
 "nbformat": 4,
 "nbformat_minor": 4
}
